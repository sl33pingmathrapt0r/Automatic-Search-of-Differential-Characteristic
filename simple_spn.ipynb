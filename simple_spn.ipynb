{
 "cells": [
  {
   "cell_type": "code",
   "execution_count": 1,
   "metadata": {},
   "outputs": [],
   "source": [
    "from random import Random\n",
    "from time import time\n",
    "import numpy as np\n",
    "import matplotlib.pyplot as plt"
   ]
  },
  {
   "cell_type": "code",
   "execution_count": 3,
   "metadata": {},
   "outputs": [
    {
     "data": {
      "image/png": "[encoded data removed]",
      "text/plain": [
       "<Figure size 432x288 with 1 Axes>"
      ]
     },
     "metadata": {
      "needs_background": "light"
     },
     "output_type": "display_data"
    }
   ],
   "source": [
    "rand= Random()\n",
    "\n",
    "#STANDARD\n",
    "\n",
    "SBOX= [0xe, 0x4, 0xd, 0x1,0x2, 0xf, 0xb, 0x8, 0x3, 0xa, 0x6, 0xc, 0x5, 0x9, 0x0, 0x7]\n",
    "INV_SBOX= [SBOX.index(i) for i in range(16)]\n",
    "\n",
    "PBOX= [((4*i) %15) for i in range(15)] + [15]\n",
    "INV_PBOX= [PBOX.index(i) for i in range(16)]\n",
    "\n",
    "# create_new_key= lambda key, round: key^^round\n",
    "\n",
    "tobits= lambda x, nbits: [*map(int, format(x, \"0%db\"%nbits)[::-1])]     # little endian\n",
    "frombits= lambda y: sum(y[i]*(2^i) for i in range(len(y)))\n",
    "def get_ddt(sbox):\n",
    "    l= len(sbox)\n",
    "    ddt= np.zeros((l,l), dtype=int)\n",
    "    for i,x in enumerate(sbox):\n",
    "        for j,y in enumerate(sbox):\n",
    "            ddt[i^^j][x^^y]+= 1\n",
    "    return ddt\n",
    "\n",
    "DDT= get_ddt(SBOX)\n",
    "plt.imshow(DDT)\n",
    "plt.show()"
   ]
  },
  {
   "cell_type": "code",
   "execution_count": 6,
   "metadata": {},
   "outputs": [],
   "source": [
    "def encrypt(plaintext, key): \n",
    "    cipher= plaintext\n",
    "    for round in range(4):      # use 1 round less for probabilistic test of differential characteristic\n",
    "        cipher ^^= key^^round \n",
    "        # print(hex(cipher))\n",
    "\n",
    "        b= tobits(cipher, 16)\n",
    "        for j in range(0, len(b), 4): b[j:j+4]= tobits(SBOX[frombits(b[j:j+4])], 4)\n",
    "        # print(hex(frombits(b)))\n",
    "\n",
    "        temp= [[]]*16\n",
    "        for i in range(len(b)): temp[PBOX[i]]= b[i]\n",
    "        b= temp\n",
    "        cipher= frombits(b)\n",
    "        # print(hex(cipher))\n",
    "    \n",
    "    cipher ^^= key^^4\n",
    "\n",
    "    return cipher"
   ]
  },
  {
   "cell_type": "code",
   "execution_count": 10,
   "metadata": {},
   "outputs": [],
   "source": [
    "# test_entry= 0x1234\n",
    "# test_cipher= encrypt(test_entry, test_key)\n",
    "# print(hex(test_cipher))"
   ]
  },
  {
   "cell_type": "markdown",
   "metadata": {},
   "source": [
    "## Brute Force Differential Attack (differential given)"
   ]
  },
  {
   "cell_type": "code",
   "execution_count": 11,
   "metadata": {},
   "outputs": [
    {
     "name": "stdout",
     "output_type": "stream",
     "text": [
      "0x51f4 0x51f4\n",
      "42.8469340801239\n"
     ]
    }
   ],
   "source": [
    "# highlight entire section to toggle comment\n",
    "# BRUTE FORCE DIFFERENTIAL ATTACK (differential given)\n",
    "\n",
    "test_key= rand.randint(0, 0xffff)\n",
    "input_d= 0x0b00\n",
    "e_output_d= 0x0606        # s-box 2 and 4, from msb\n",
    "input_d1= 0xa0a0\n",
    "e_output_d1= 0x8088      # s-box 1, 3, 4, from msb\n",
    "\n",
    "# probabilistic test with actual key\n",
    "# start_time= time()\n",
    "# x= set(); m=[0]*2^8\n",
    "# for entry in range(15000):\n",
    "#     x1= rand.randint(0,0xffff)\n",
    "#     while (x1 in x): x1= rand.randint(0,0xffff)\n",
    "#     x2= x1^^input_d\n",
    "#     x.add(x1); x.add(x2); \n",
    "\n",
    "#     y1= encrypt(x1, test_key)\n",
    "#     y2= encrypt(x2, test_key)\n",
    "    \n",
    "#     y_diff= tobits(y1^^y2, 16)\n",
    "#     cha= y_diff[0:4]+y_diff[8:12]\n",
    "#     m[frombits(cha)]+=1\n",
    "\n",
    "# print(hex(m.index(max(m))), (max(m)/15000).n())\n",
    "# print(m)\n",
    "# print(time()- start_time)\n",
    "\n",
    "start_time= time()\n",
    "x= set(); y=[0]*2^8\n",
    "\n",
    "for entry in range(1000): \n",
    "    x1= rand.randint(0, 0xffff)\n",
    "    while x1 in x: x1= rand.randint(0, 0xffff)\n",
    "    x2= x1^^input_d\n",
    "    x.add(x1); x.add(x2); \n",
    "    \n",
    "    y1= encrypt(x1, test_key)\n",
    "    y2= encrypt(x2, test_key)\n",
    "\n",
    "    for out in range(2^8):\n",
    "        temp= [[]]*16\n",
    "        out_key= tobits(out,8); out_b= []; \n",
    "        for i in range(8): out_b+= [out_key[i]]+ [0]     # key-bits fitted due to choice of differential / s-boxes\n",
    "        out_key= frombits(out_b)\n",
    "\n",
    "        y1b= tobits(y1^^out_key, 16)\n",
    "        for i in range(len(y1b)): temp[INV_PBOX[i]]= y1b[i]\n",
    "        for j in range(0, len(temp), 4): temp[j:j+4]= tobits(INV_SBOX[frombits(temp[j:j+4])],4)\n",
    "        y1b= frombits(temp)\n",
    "\n",
    "        y2b= tobits(y2^^out_key, 16)\n",
    "        for i in range(len(y2b)): temp[INV_PBOX[i]]= y2b[i]\n",
    "        for j in range(0, len(temp), 4): temp[j:j+4]= tobits(INV_SBOX[frombits(temp[j:j+4])], 4)\n",
    "        y2b= frombits(temp)\n",
    "\n",
    "        y_diff= tobits(y1b^^y2b, 16)\n",
    "        if frombits(y_diff)== e_output_d: y[out]+=1\n",
    "\n",
    "obtained_bits= []\n",
    "bt= tobits(y.index(max(y))^^2, 16)\n",
    "for i in range(8): obtained_bits+= [bt[i]] +[0]\n",
    "\n",
    "x= set(); y= [0]*2^8; \n",
    "for entry in range(1000):\n",
    "    x1= rand.randint(0, 0xffff)\n",
    "    while x1 in x: x1= rand.randint(0, 0xffff)\n",
    "    x2= x1 ^^ input_d1\n",
    "    x.add(x1); x.add(x2); \n",
    "\n",
    "    y1= encrypt(x1, test_key)\n",
    "    y2= encrypt(x2, test_key)\n",
    "\n",
    "    for out in range(2^8):\n",
    "        temp= [[]]*16\n",
    "        out_key= tobits(out, 8); out_b= []; \n",
    "        for i in range(8): out_b+= [obtained_bits[2*i]]+ [out_key[i]]\n",
    "        out_key= frombits(out_b) ^^4\n",
    "\n",
    "        y1b= tobits(y1^^out_key, 16)\n",
    "        for i in range(len(y1b)): temp[INV_PBOX[i]]= y1b[i]\n",
    "        for j in range(0, len(temp), 4): temp[j:j+4]= tobits(INV_SBOX[frombits(temp[j:j+4])], 4)\n",
    "        y1b= frombits(temp)\n",
    "\n",
    "        y2b= tobits(y2^^out_key, 16)\n",
    "        for i in range(len(y2b)): temp[INV_PBOX[i]]= y2b[i]\n",
    "        for j in range(0, len(temp), 4): temp[j:j+4]= tobits(INV_SBOX[frombits(temp[j:j+4])], 4)\n",
    "        y2b= frombits(temp)\n",
    "\n",
    "        y_diff= tobits(y1b^^y2b, 16)\n",
    "        if frombits(y_diff)== e_output_d1: y[out]+=1\n",
    "\n",
    "bt= tobits(y.index(max(y)), 16)\n",
    "for i in range(8): obtained_bits[2*i+1]= bt[i]      # remaining bits\n",
    "obtained_key= frombits(obtained_bits)\n",
    "\n",
    "print(hex(obtained_key), hex(test_key))\n",
    "print(time()-start_time)\n",
    "# Success with 1000 pairs at ~45s"
   ]
  },
  {
   "cell_type": "markdown",
   "metadata": {},
   "source": [
    "## Automatic Search pf Differential Characteristic"
   ]
  },
  {
   "cell_type": "markdown",
   "metadata": {},
   "source": [
    "### Use Convex Hull (no optimization)"
   ]
  },
  {
   "cell_type": "code",
   "execution_count": 13,
   "metadata": {},
   "outputs": [],
   "source": [
    "def get_sbox_hrep(sbox):\n",
    "    ddt = get_ddt(sbox)\n",
    "    l = len(sbox)\n",
    "    lb = int(l).bit_length()-1\n",
    "    assert l == 1<<lb   # each successive bit carries an extra weight of *2 => l= max(weight) of bits\n",
    "    space = []\n",
    "    for x in range(l):\n",
    "        for y in range(l):\n",
    "            if ddt[x,y] == 0: continue\n",
    "            xb = tobits(x, lb)\n",
    "            yb = tobits(y, lb)\n",
    "            space.append((*xb, *yb))\n",
    "    \n",
    "    p = Polyhedron(vertices=space)\n",
    "    return p.Hrepresentation()"
   ]
  },
  {
   "cell_type": "code",
   "execution_count": 14,
   "metadata": {},
   "outputs": [],
   "source": [
    "def hrep_to_ineq(hrep, lin_var):\n",
    "    assert len(lin_var) == len(hrep[0]) - 1\n",
    "    # hrep includes constant b in iterable as element 0\n",
    "    return [\n",
    "        sum(var*coeff for coeff,var in zip([*ieq][1:], lin_var)) + ieq.b() >= 0 \n",
    "        for ieq in hrep\n",
    "    ]\n",
    "    # 1.    The function pushes '*' multiply operator. MIP linear function (lf) \n",
    "    #       attaches real constants to variables for storage as lf object. \n",
    "    # 2.    '>=', __geq__ has been overwritten to read 2 lf and output some \n",
    "    #       linear constraint (lc), thus NOT a boolean\n",
    "    # 3.    Returns a list of constraints"
   ]
  },
  {
   "cell_type": "code",
   "execution_count": 15,
   "metadata": {},
   "outputs": [],
   "source": [
    "# Forming the MILP\n",
    "hrep= get_sbox_hrep(SBOX)\n",
    "\n",
    "solver= MixedIntegerLinearProgram(maximization=False)\n",
    "vargen= solver.new_variable(integer= True)\n",
    "\n",
    "pt= [vargen[i] for i in range(16)]  # generates a new variable point with each indexing imposed\n",
    "ct= [vargen[i] for i in range(16, 32)]\n",
    "active_s= [vargen[i] for i in range(32, 36)]\n",
    "\n",
    "solver.set_objective(sum(active_s))"
   ]
  },
  {
   "cell_type": "code",
   "execution_count": 16,
   "metadata": {},
   "outputs": [],
   "source": [
    "sboxcons= [\n",
    "    hrep_to_ineq(\n",
    "        hrep, \n",
    "        pt[n*4: n*4 +4] + ct[n*4: n*4+4])\n",
    "    for n in range(4)\n",
    "]   # generates constraints of 1 sbox and apply to all sboxes\n",
    "for sc in sboxcons: \n",
    "    for c in sc: solver.add_constraint(c)"
   ]
  },
  {
   "cell_type": "code",
   "execution_count": 17,
   "metadata": {},
   "outputs": [],
   "source": [
    "# identify active s-boxes\n",
    "solver.add_constraint(sum(pt) >=1)    # only non-trivial solutions\n",
    "for sbox in range(4):\n",
    "    solver.add_constraint(active_s[sbox] <=1)     # boolean variable\n",
    "for bit in range(len(pt)):\n",
    "    solver.add_constraint(active_s[bit//4]>= pt[bit]) "
   ]
  },
  {
   "cell_type": "code",
   "execution_count": 19,
   "metadata": {},
   "outputs": [
    {
     "name": "stdout",
     "output_type": "stream",
     "text": [
      "1.0\n",
      "[1.0, 1.0, 0.0, 0.0, 0.0, 0.0, 0.0, 0.0, 0.0, 0.0, 0.0, 0.0, 0.0, 0.0, 0.0, 0.0]\n",
      "[1.0, 0.0, 0.0, 1.0, 0.0, 0.0, 0.0, 0.0, 0.0, 0.0, 0.0, 0.0, 0.0, 0.0, 0.0, 0.0]\n"
     ]
    }
   ],
   "source": [
    "# solver.show()\n",
    "min_s= solver.solve()\n",
    "print(min_s)\n",
    "d_in= solver.get_values(pt)\n",
    "d_out= solver.get_values(ct)\n",
    "print(d_in)\n",
    "print(d_out)"
   ]
  },
  {
   "cell_type": "code",
   "execution_count": null,
   "metadata": {},
   "outputs": [],
   "source": []
  }
 ],
 "metadata": {
  "kernelspec": {
   "display_name": "SageMath 9.0",
   "language": "sage",
   "name": "sagemath"
  },
  "language_info": {
   "codemirror_mode": {
    "name": "ipython",
    "version": 3
   },
   "file_extension": ".py",
   "mimetype": "text/x-python",
   "name": "python",
   "nbconvert_exporter": "python",
   "pygments_lexer": "ipython3",
   "version": "3.8.10"
  },
  "orig_nbformat": 4
 },
 "nbformat": 4,
 "nbformat_minor": 2
}
