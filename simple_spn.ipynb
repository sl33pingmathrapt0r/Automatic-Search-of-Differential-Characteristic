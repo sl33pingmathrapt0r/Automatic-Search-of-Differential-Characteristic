{
 "cells": [
  {
   "cell_type": "markdown",
   "metadata": {},
   "source": [
    "# Understanding Differential Attack on a simple SPN"
   ]
  },
  {
   "cell_type": "markdown",
   "metadata": {},
   "source": [
    "## Encryption Standard and Setup"
   ]
  },
  {
   "cell_type": "markdown",
   "metadata": {},
   "source": [
    "SPN taken from *\"A Tutorial on Linear and Differential Cryptanalysis\"* written by **Howard M. Heys**"
   ]
  },
  {
   "cell_type": "markdown",
   "metadata": {},
   "source": [
    "<div align= \"center\">\n",
    "    <img src= \"Basic-SPN-cipher.png\")>\n",
    "</div>"
   ]
  },
  {
   "cell_type": "code",
   "execution_count": 1,
   "metadata": {},
   "outputs": [],
   "source": [
    "from random import Random\n",
    "from time import time\n",
    "import numpy as np\n",
    "import matplotlib.pyplot as plt"
   ]
  },
  {
   "cell_type": "code",
   "execution_count": 2,
   "metadata": {},
   "outputs": [
    {
     "data": {
      "image/png": "[encoded data removed]",
      "text/plain": [
       "<Figure size 432x288 with 1 Axes>"
      ]
     },
     "metadata": {
      "needs_background": "light"
     },
     "output_type": "display_data"
    }
   ],
   "source": [
    "rand= Random()\n",
    "\n",
    "# STANDARD\n",
    "\n",
    "SBOX= [0xe, 0x4, 0xd, 0x1,0x2, 0xf, 0xb, 0x8, 0x3, 0xa, 0x6, 0xc, 0x5, 0x9, 0x0, 0x7]\n",
    "INV_SBOX= [SBOX.index(i) for i in range(16)]\n",
    "\n",
    "PBOX= [((4*i) %15) for i in range(15)] + [15]\n",
    "INV_PBOX= [PBOX.index(i) for i in range(16)]\n",
    "\n",
    "def perm(pbox, cipbits):\n",
    "    assert len(cipbits) == len(pbox)\n",
    "    return [cipbits[pbox[i]] for i in range(len(cipbits))]\n",
    "\n",
    "RDS= 4\n",
    "\n",
    "# create_new_key= lambda key, round: key^^round\n",
    "\n",
    "tobits= lambda x, nbits: [*map(int, format(x, \"0%db\"%nbits)[::-1])]     # little endian\n",
    "frombits= lambda y: sum(bit*(1<<i) for i,bit in enumerate(y))\n",
    "\n",
    "def get_ddt(sbox):\n",
    "    l= len(sbox)\n",
    "    ddt= np.zeros((l,l), dtype=int)\n",
    "    for i,x in enumerate(sbox):\n",
    "        for j,y in enumerate(sbox):\n",
    "            ddt[i^^j][x^^y]+= 1\n",
    "    return ddt\n",
    "\n",
    "DDT= get_ddt(SBOX)\n",
    "plt.imshow(DDT)\n",
    "plt.show()"
   ]
  },
  {
   "cell_type": "code",
   "execution_count": 3,
   "metadata": {},
   "outputs": [],
   "source": [
    " encrypt(plaintext, key): \n",
    "    cipher= plaintext\n",
    "    for round in range(RDS):      # use 1 round less for probabilistic test of differential characteristic\n",
    "        cipher ^^= key^^round \n",
    "        # print(hex(cipher))\n",
    "\n",
    "        b= tobits(cipher, 16)\n",
    "        for j in range(0, len(b), 4): b[j:j+4]= tobits(SBOX[frombits(b[j:j+4])], 4)\n",
    "        # print(hex(frombits(b)))\n",
    "\n",
    "        temp= [[]]*16\n",
    "        for i in range(len(b)): temp[PBOX[i]]= b[i]\n",
    "        b= temp\n",
    "        cipher= frombits(b)\n",
    "        # print(hex(cipher))\n",
    "    \n",
    "    cipher ^^= key^^RDS\n",
    "\n",
    "    return cipher"
   ]
  },
  {
   "cell_type": "code",
   "execution_count": 4,
   "metadata": {},
   "outputs": [],
   "source": [
    "# test_entry= 0x1234\n",
    "# test_cipher= encrypt(test_entry, test_key)\n",
    "# print(hex(test_cipher))"
   ]
  },
  {
   "cell_type": "markdown",
   "metadata": {},
   "source": [
    "## Brute Force Differential Attack (differential given)"
   ]
  },
  {
   "cell_type": "code",
   "execution_count": 5,
   "metadata": {},
   "outputs": [
    {
     "name": "stdout",
     "output_type": "stream",
     "text": [
      "0x7108 0x7108\n",
      "52.23238492012024\n"
     ]
    }
   ],
   "source": [
    "# highlight entire section to toggle comment\n",
    "# BRUTE FORCE DIFFERENTIAL ATTACK (differential given)\n",
    "\n",
    "test_key= rand.randint(0, 0xffff)\n",
    "input_d= 0x0b00\n",
    "e_output_d= 0x0606        # s-box 2 and 4, from msb\n",
    "input_d1= 0xa0a0\n",
    "e_output_d1= 0x8088      # s-box 1, 3, 4, from msb\n",
    "\n",
    "# probabilistic test with actual key\n",
    "# start_time= time()\n",
    "# x= set(); m=[0]*2^8\n",
    "# for entry in range(15000):\n",
    "#     x1= rand.randint(0,0xffff)\n",
    "#     while (x1 in x): x1= rand.randint(0,0xffff)\n",
    "#     x2= x1^^input_d\n",
    "#     x.add(x1); x.add(x2); \n",
    "\n",
    "#     y1= encrypt(x1, test_key)\n",
    "#     y2= encrypt(x2, test_key)\n",
    "    \n",
    "#     y_diff= tobits(y1^^y2, 16)\n",
    "#     cha= y_diff[0:4]+y_diff[8:12]\n",
    "#     m[frombits(cha)]+=1\n",
    "\n",
    "# print(hex(m.index(max(m))), (max(m)/15000).n())\n",
    "# print(m)\n",
    "# print(time()- start_time)\n",
    "\n",
    "start_time= time()\n",
    "x= set(); y=[0]*2^8\n",
    "\n",
    "for entry in range(1000): \n",
    "    x1= rand.randint(0, 0xffff)\n",
    "    while x1 in x: x1= rand.randint(0, 0xffff)\n",
    "    x2= x1^^input_d\n",
    "    x.add(x1); x.add(x2); \n",
    "    \n",
    "    y1= encrypt(x1, test_key)\n",
    "    y2= encrypt(x2, test_key)\n",
    "\n",
    "    for out in range(2^8):\n",
    "        temp= [[]]*16\n",
    "        out_key= tobits(out,8); out_b= []; \n",
    "        for i in range(8): out_b+= [out_key[i]]+ [0]     # key-bits fitted due to choice of differential / s-boxes\n",
    "        out_key= frombits(out_b)\n",
    "\n",
    "        y1b= tobits(y1^^out_key, 16)\n",
    "        for i in range(len(y1b)): temp[INV_PBOX[i]]= y1b[i]\n",
    "        for j in range(0, len(temp), 4): temp[j:j+4]= tobits(INV_SBOX[frombits(temp[j:j+4])],4)\n",
    "        y1b= frombits(temp)\n",
    "\n",
    "        y2b= tobits(y2^^out_key, 16)\n",
    "        for i in range(len(y2b)): temp[INV_PBOX[i]]= y2b[i]\n",
    "        for j in range(0, len(temp), 4): temp[j:j+4]= tobits(INV_SBOX[frombits(temp[j:j+4])], 4)\n",
    "        y2b= frombits(temp)\n",
    "\n",
    "        y_diff= tobits(y1b^^y2b, 16)\n",
    "        if frombits(y_diff)== e_output_d: y[out]+=1\n",
    "\n",
    "obtained_bits= []\n",
    "bt= tobits(y.index(max(y))^^2, 16)\n",
    "for i in range(8): obtained_bits+= [bt[i]] +[0]\n",
    "\n",
    "x= set(); y= [0]*2^8; \n",
    "for entry in range(1000):\n",
    "    x1= rand.randint(0, 0xffff)\n",
    "    while x1 in x: x1= rand.randint(0, 0xffff)\n",
    "    x2= x1 ^^ input_d1\n",
    "    x.add(x1); x.add(x2); \n",
    "\n",
    "    y1= encrypt(x1, test_key)\n",
    "    y2= encrypt(x2, test_key)\n",
    "\n",
    "    for out in range(2^8):\n",
    "        temp= [[]]*16\n",
    "        out_key= tobits(out, 8); out_b= []; \n",
    "        for i in range(8): out_b+= [obtained_bits[2*i]]+ [out_key[i]]\n",
    "        out_key= frombits(out_b) ^^4\n",
    "\n",
    "        y1b= tobits(y1^^out_key, 16)\n",
    "        for i in range(len(y1b)): temp[INV_PBOX[i]]= y1b[i]\n",
    "        for j in range(0, len(temp), 4): temp[j:j+4]= tobits(INV_SBOX[frombits(temp[j:j+4])], 4)\n",
    "        y1b= frombits(temp)\n",
    "\n",
    "        y2b= tobits(y2^^out_key, 16)\n",
    "        for i in range(len(y2b)): temp[INV_PBOX[i]]= y2b[i]\n",
    "        for j in range(0, len(temp), 4): temp[j:j+4]= tobits(INV_SBOX[frombits(temp[j:j+4])], 4)\n",
    "        y2b= frombits(temp)\n",
    "\n",
    "        y_diff= tobits(y1b^^y2b, 16)\n",
    "        if frombits(y_diff)== e_output_d1: y[out]+=1\n",
    "\n",
    "bt= tobits(y.index(max(y)), 16)\n",
    "for i in range(8): obtained_bits[2*i+1]= bt[i]      # remaining bits\n",
    "obtained_key= frombits(obtained_bits)\n",
    "\n",
    "print(hex(obtained_key), hex(test_key))\n",
    "print(time()-start_time)\n",
    "# Success with 1000 pairs at ~45s"
   ]
  },
  {
   "cell_type": "markdown",
   "metadata": {},
   "source": [
    "## Automatic Search of Differential Characteristic"
   ]
  },
  {
   "cell_type": "markdown",
   "metadata": {},
   "source": [
    "### Use Convex Hull (no optimization)"
   ]
  },
  {
   "cell_type": "code",
   "execution_count": 6,
   "metadata": {},
   "outputs": [],
   "source": [
    "def get_sbox_hrep(sbox, threshold:int=0):\n",
    "    assert threshold >= 0, \"Threshold must be a positive integer\"\n",
    "    assert threshold <= len(sbox), \"Threshold= `threshold` is larger than SBOX!\"\n",
    "    ddt = get_ddt(sbox)\n",
    "    l = len(sbox)\n",
    "    lb = int(l).bit_length()-1\n",
    "    assert l == 1<<lb, \"Size of SBOX isn't a power of two!\"   # each successive bit carries an extra weight of *2 => l= max(weight) of bits\n",
    "    space = []\n",
    "    for x in range(l):\n",
    "        for y in range(l):\n",
    "            if ddt[x,y] <= threshold: continue\n",
    "            xb = tobits(x, lb)\n",
    "            yb = tobits(y, lb)\n",
    "            space.append((*xb, *yb))\n",
    "    \n",
    "    p = Polyhedron(vertices=space)\n",
    "    return p.Hrepresentation()"
   ]
  },
  {
   "cell_type": "code",
   "execution_count": 7,
   "metadata": {},
   "outputs": [],
   "source": [
    "def hrep_to_ineq(hrep, lin_var):\n",
    "    assert len(lin_var) == len(hrep[0]) - 1, \\\n",
    "        \"Number of arguments does not match dimensionality of `hrep`\"\n",
    "    # hrep includes constant b in iterable as element 0\n",
    "    return [\n",
    "        sum(var*coeff for coeff,var in zip([*ieq][1:], lin_var)) + ieq.b() >= 0 \n",
    "        for ieq in hrep\n",
    "    ]\n",
    "    # 1.    The function pushes '*' multiply operator. MIP linear function (lf) \n",
    "    #       attaches real constants to variables for storage as lf object. \n",
    "    # 2.    '>=', __geq__ has been overwritten to read 2 lf and output some \n",
    "    #       linear constraint (lc), thus NOT a boolean\n",
    "    # 3.    Returns a list of constraints"
   ]
  },
  {
   "cell_type": "code",
   "execution_count": 8,
   "metadata": {},
   "outputs": [],
   "source": [
    "def toblks(arr, blocklen:int):\n",
    "    assert len(arr)%blocklen ==0, \"`blocklen` isn't a divisor of `len(arr)`\"\n",
    "    return [arr[i : i + blocklen] for i in range(0, len(arr), blocklen)]"
   ]
  },
  {
   "cell_type": "code",
   "execution_count": 9,
   "metadata": {},
   "outputs": [],
   "source": [
    "class VarGen:\n",
    "    \n",
    "    \"\"\"\n",
    "    Wrapper class over `solver.new_variable`\n",
    "    to provide the `gen` method\n",
    "    \"\"\"\n",
    "    \n",
    "    def __init__(self, solver:MixedIntegerLinearProgram):\n",
    "        self.vargen = solver.new_variable(integer=True)\n",
    "        \n",
    "    def __getitem__(self, idx):\n",
    "        \"\"\"Get an existing variable at index `idx`\"\"\"\n",
    "        assert idx < len(self.vargen.keys())\n",
    "        return self.vargen[idx]\n",
    "    \n",
    "    def gen(self):\n",
    "        \"\"\"Generates a new variable\"\"\"\n",
    "        return self.vargen[len(self.vargen.keys())]"
   ]
  },
  {
   "cell_type": "code",
   "execution_count": 10,
   "metadata": {},
   "outputs": [],
   "source": [
    "# Forming the MILP\n",
    "hrep_sbox= get_sbox_hrep(SBOX, 2)\n",
    "\n",
    "solver= MixedIntegerLinearProgram(maximization=False)\n",
    "vargen= VarGen(solver)\n",
    "\n",
    "pt= [vargen.gen() for i in range(16)]  # generates a new variable point with each indexing imposed\n",
    "ct= pt[:]   # first round of ciphertext = plaintext\n",
    "solver.add_constraint(sum(pt) >=1)    # only non-trivial solutions"
   ]
  },
  {
   "cell_type": "code",
   "execution_count": 11,
   "metadata": {},
   "outputs": [],
   "source": [
    "# for just 1 round\n",
    "\n",
    "# ct= [vargen.gen() for i in range(16)]\n",
    "\n",
    "# sboxcons= [\n",
    "#     hrep_to_ineq(\n",
    "#         hrep, \n",
    "#         pt[n*4: n*4 +4] + ct[n*4: n*4+4])\n",
    "#     for n in range(4)\n",
    "# ]   # generates constraints of 1 sbox and apply to all sboxes\n",
    "# for sc in sboxcons: \n",
    "#     for c in sc: solver.add_constraint(c)"
   ]
  },
  {
   "cell_type": "code",
   "execution_count": 12,
   "metadata": {},
   "outputs": [],
   "source": [
    "sbox_ins= []    # Saves all s-box input var\n",
    "sbox_outs= []   # Saves all s-box output var\n",
    "\n",
    "# for each round, add the constraints associated to permutated bit\n",
    "for rd in range(RDS-1):\n",
    "\n",
    "    # saves the cipher bit-variable order before entering s-box\n",
    "    sbox_ins.extend(toblks(ct, 4))  \n",
    "    # each element is block of cipher => len(sbox_ins)= total number of sboxes\n",
    "\n",
    "    # a fresh blk at end of each sbox\n",
    "    sbox_out= [vargen.gen() for i in range(16)] \n",
    "    # save the assigned constraint variables in this sbox output\n",
    "    sbox_outs.extend(toblks(sbox_out, 4))\n",
    "\n",
    "    for c_blk, out_blk in zip(toblks(ct, 4), toblks(sbox_out, 4)):  # for each sbox, \n",
    "        for c in hrep_to_ineq(hrep_sbox, c_blk + out_blk):          # generate the ieqs\n",
    "            solver.add_constraint(c)                               # and add to constraints\n",
    "\n",
    "    # permutate before next round\n",
    "    ct= perm(PBOX, sbox_out)\n"
   ]
  },
  {
   "cell_type": "markdown",
   "metadata": {},
   "source": [
    "for self to understand the ***above code***:\n",
    "\n",
    "Begin each iteration with 16 unique variables whose boolean values are FIXED from before encryption to after encryption. \n",
    "\n",
    "Over n rounds, the variables are just being permuted and shifted around, hence the indexing of the variables after any round may not be the same. But inherently each variable still holds the same value. E.g. [x0, x1, x2, x3] -> [x2, x0, x3, x1]. \n",
    "this movement represents the permutation of bits\n",
    "\n",
    "The fixed value of the variables are restricted by valid differentials of the s-box. The restrictions are represented as constraints of MILP. \n",
    "(constraints thus represent all valid differentials) \n",
    "\n",
    "Iterate for all possible sets of 16 unique variables."
   ]
  },
  {
   "cell_type": "code",
   "execution_count": 13,
   "metadata": {},
   "outputs": [
    {
     "data": {
      "text/plain": [
       "x_0 + 2*x_1 + 4*x_2 + 8*x_3 + 16*x_4 + 32*x_5 + 64*x_6 + 128*x_7 + 256*x_8 + 512*x_9 + 1024*x_10 + 2048*x_11 + 4096*x_12 + 8192*x_13 + 16384*x_14 + 32768*x_15"
      ]
     },
     "execution_count": 13,
     "metadata": {},
     "output_type": "execute_result"
    }
   ],
   "source": [
    "frombits(pt)"
   ]
  },
  {
   "cell_type": "markdown",
   "metadata": {},
   "source": [
    "One possible way to set objective function: "
   ]
  },
  {
   "cell_type": "code",
   "execution_count": 14,
   "metadata": {},
   "outputs": [],
   "source": [
    "# # active_s= [vargen[i] for i in range(4)]\n",
    "# active_s= [vargen.gen() for i in range(len(sbox_ins))]\n",
    "\n",
    "# # identify active s-boxes\n",
    "# for sbox in range(len(sbox_ins)):\n",
    "#     solver.add_constraint(active_s[sbox] <=1)     # boolean variable\n",
    "#     for bit in sbox_ins[sbox]:\n",
    "#         solver.add_constraint(active_s[sbox]>= bit) \n",
    "\n",
    "# # for bit in range(len(pt)):\n",
    "# #     solver.add_constraint(active_s[bit//4] >=pt[bit])"
   ]
  },
  {
   "cell_type": "markdown",
   "metadata": {},
   "source": [
    "Another way to set objective function:"
   ]
  },
  {
   "cell_type": "code",
   "execution_count": 15,
   "metadata": {},
   "outputs": [],
   "source": [
    "from inspect import signature\n",
    "from itertools import product\n",
    "# product(n sets): \n",
    "# product is the cartesian product of sets A1, A2, ..., An, \n",
    "# where the sets are taken as inputs.\n",
    "# `repeat=k` can be used to repeat the same set used in the Cartesian \n",
    "# product for k times. \n",
    "# E.g. product([0,1], [2,3]) => [0,2] , [0,3] , [1,2] , [1,3]\n",
    "\n",
    "def get_boolexpr_hrep(boolfunc):\n",
    "    \"\"\"\n",
    "    Get H-Representation of points representing\n",
    "    (a0,a1,...,an, boolfunc(a0,a1,...,an))\n",
    "    \n",
    "    boolfunc is a boolean function of n-args with a boolean output\n",
    "    \"\"\"\n",
    "    nargs = len(signature(boolfunc).parameters)\n",
    "    space = []\n",
    "    for nb in product([0,1], repeat=nargs): # all possible binary vectors in n-d\n",
    "        space.append((*nb, boolfunc(*nb)))\n",
    "        \n",
    "    p = Polyhedron(vertices=space)  # entire space based on the defined bool func\n",
    "    return p.Hrepresentation()\n",
    "\n",
    "hrep_activeS= get_boolexpr_hrep(lambda a,b,c,d: a or b or c or d)\n",
    "active_s= [vargen.gen() for _ in range(len(sbox_ins))]\n",
    "\n",
    "# add constraints to enable active s-box\n",
    "for sbox_in, active in zip(sbox_ins, active_s):\n",
    "    for c in hrep_to_ineq(hrep_activeS, sbox_in + [active]):\n",
    "        solver.add_constraint(c)"
   ]
  },
  {
   "cell_type": "markdown",
   "metadata": {},
   "source": [
    "A solution is given below. "
   ]
  },
  {
   "cell_type": "code",
   "execution_count": 16,
   "metadata": {},
   "outputs": [
    {
     "name": "stdout",
     "output_type": "stream",
     "text": [
      "Minimum Active S-Boxes: 4.0\n"
     ]
    }
   ],
   "source": [
    "objective= sum(active_s)\n",
    "solver.set_objective(objective)\n",
    "\n",
    "# solver.show()\n",
    "min_s=  solver.solve()\n",
    "print(\"Minimum Active S-Boxes:\", min_s)"
   ]
  },
  {
   "cell_type": "code",
   "execution_count": 17,
   "metadata": {},
   "outputs": [
    {
     "name": "stdout",
     "output_type": "stream",
     "text": [
      "Plaintext Difference: \n",
      "[0, 0, 0, 0, 0, 0, 0, 0, 0, 1, 1, 1, 0, 0, 0, 0] 0xe00\n",
      "\n",
      "S-Box I/O: \n",
      " I: [0, 0, 0, 0, 0, 0, 0, 0, 0, 1, 1, 1, 0, 0, 0, 0] 0xe00\n",
      " O: [0, 0, 0, 0, 0, 0, 0, 0, 0, 0, 0, 1, 0, 0, 0, 0] 0x800\n",
      " ------------------------PERMUTATE-------------------------\n",
      " I: [0, 0, 0, 0, 0, 0, 0, 0, 0, 0, 0, 0, 0, 0, 1, 0] 0x4000\n",
      " O: [0, 0, 0, 0, 0, 0, 0, 0, 0, 0, 0, 0, 0, 1, 1, 0] 0x6000\n",
      " ------------------------PERMUTATE-------------------------\n",
      " I: [0, 0, 0, 0, 0, 0, 0, 1, 0, 0, 0, 1, 0, 0, 0, 0] 0x880\n",
      " O: [0, 0, 0, 0, 1, 0, 1, 1, 1, 1, 0, 1, 0, 0, 0, 0] 0xbd0\n",
      " ------------------------PERMUTATE-------------------------\n",
      "\n",
      "Ciphertext Difference: \n",
      "[0, 1, 1, 0, 0, 0, 1, 0, 0, 1, 0, 0, 0, 1, 1, 0] 0x6246\n"
     ]
    }
   ],
   "source": [
    "d_in= [*map(int, solver.get_values(pt))]\n",
    "d_out= [*map(int, solver.get_values(ct))]\n",
    "\n",
    "sbox_i=[]\n",
    "for inp in toblks(sbox_ins, 4):     # every 4 sublists is 1 chain of ciphertext\n",
    "    sbox_i+= [[*map(int, solver.get_values( sum(inp, [])) )]]\n",
    "sbox_o=[]\n",
    "for oup in toblks(sbox_outs, 4):\n",
    "    sbox_o+= [[*map(int, solver.get_values( sum(oup, [])) )]]\n",
    "# sum(nested list, []) converts sum into joining of lists inside an iterable\n",
    "\n",
    "\n",
    "print(\"Plaintext Difference: \")\n",
    "print(d_in, hex(frombits(d_in)))\n",
    "\n",
    "print(\"\\nS-Box I/O: \")\n",
    "for i,o in zip(sbox_i, sbox_o): \n",
    "    print(\" I:\", i, hex(frombits(i)))\n",
    "    print(\" O:\", o, hex(frombits(o)))\n",
    "    print(\" \"+ \"-\"*24 + \"PERMUTATE\" + \"-\"*25)\n",
    "\n",
    "\n",
    "print(\"\\nCiphertext Difference: \")\n",
    "print(d_out, hex(frombits(d_out)))"
   ]
  },
  {
   "cell_type": "code",
   "execution_count": 18,
   "metadata": {},
   "outputs": [
    {
     "name": "stdout",
     "output_type": "stream",
     "text": [
      "Help on built-in function reduce in module _functools:\n",
      "\n",
      "reduce(...)\n",
      "    reduce(function, sequence[, initial]) -> value\n",
      "    \n",
      "    Apply a function of two arguments cumulatively to the items of a sequence,\n",
      "    from left to right, so as to reduce the sequence to a single value.\n",
      "    For example, reduce(lambda x, y: x+y, [1, 2, 3, 4, 5]) calculates\n",
      "    ((((1+2)+3)+4)+5).  If initial is present, it is placed before the items\n",
      "    of the sequence in the calculation, and serves as a default when the\n",
      "    sequence is empty.\n",
      "\n"
     ]
    }
   ],
   "source": [
    "# Compute the probability of differential trail\n",
    "from functools import reduce\n",
    "help(reduce)"
   ]
  },
  {
   "cell_type": "code",
   "execution_count": 19,
   "metadata": {},
   "outputs": [
    {
     "name": "stdout",
     "output_type": "stream",
     "text": [
      "[0.375, 0.375, 0.0625]\n",
      "Probability of Differential Characteristic:  0.0087890625\n",
      " - One in 114\n"
     ]
    }
   ],
   "source": [
    "prod= lambda arr: reduce(lambda x,y: x*y, arr)\n",
    "p_rd= []\n",
    "for i,o in zip(sbox_i, sbox_o):\n",
    "    p_rd+= [ prod( DDT[frombits(iblk), frombits(oblk)]/len(SBOX) for iblk, oblk in  zip(toblks(i,4), toblks(o,4)) )]\n",
    "\n",
    "print(p_rd)\n",
    "p_trail= prod(p_rd)\n",
    "print(\"Probability of Differential Characteristic: \", (p_trail))\n",
    "print(\" - One in\", int(round(1/p_trail)))"
   ]
  }
 ],
 "metadata": {
  "kernelspec": {
   "display_name": "SageMath 9.0",
   "language": "sage",
   "name": "sagemath"
  },
  "language_info": {
   "codemirror_mode": {
    "name": "ipython",
    "version": 3
   },
   "file_extension": ".py",
   "mimetype": "text/x-python",
   "name": "python",
   "nbconvert_exporter": "python",
   "pygments_lexer": "ipython3",
   "version": "3.8.10"
  },
  "orig_nbformat": 4
 },
 "nbformat": 4,
 "nbformat_minor": 2
}
