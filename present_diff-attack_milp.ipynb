{
 "cells": [
  {
   "cell_type": "markdown",
   "metadata": {},
   "source": [
    "# Attempting a Differential Attack on PRESENT-80 with MILP using Convex Hull of S-Box"
   ]
  },
  {
   "cell_type": "markdown",
   "metadata": {},
   "source": [
    "### SETUP"
   ]
  },
  {
   "cell_type": "markdown",
   "metadata": {},
   "source": [
    "Importing libraries, setting up functions, preparing the encryption standard as guided with simple_spn.ipynb"
   ]
  },
  {
   "cell_type": "code",
   "execution_count": 1,
   "metadata": {},
   "outputs": [],
   "source": [
    "import secrets  # for randbits\n",
    "from time import time\n",
    "import numpy as np\n",
    "import matplotlib.pyplot as plt\n",
    "from inspect import signature\n",
    "from itertools import product\n",
    "from functools import reduce\n",
    "from sage.crypto.block_cipher.present import PRESENT, PRESENT_KS"
   ]
  },
  {
   "cell_type": "code",
   "execution_count": 2,
   "metadata": {},
   "outputs": [],
   "source": [
    "tobits= lambda x, nbits: [*map(int, format(x, \"0%db\"%nbits)[::-1])]     # little endian\n",
    "\n",
    "frombits= lambda y: sum(bit*(1<<i) for i,bit in enumerate(y))\n",
    "\n",
    "def perm(pbox, cipbits):\n",
    "    assert len(cipbits) == len(pbox)\n",
    "    return [cipbits[pbox[i]] for i in range(len(cipbits))]\n",
    "\n",
    "\n",
    "def get_ddt(sbox):\n",
    "    l= len(sbox)\n",
    "    ddt= np.zeros((l,l), dtype=int)\n",
    "    for i,x in enumerate(sbox):\n",
    "        for j,y in enumerate(sbox):\n",
    "            ddt[i^^j][x^^y]+= 1\n",
    "    return ddt\n",
    "\n",
    "\n",
    "def get_sbox_hrep(sbox, threshold:int=0):\n",
    "    assert threshold >= 0, \"Threshold must be a positive integer\"\n",
    "    assert threshold <= len(sbox), \"Threshold= `threshold` is larger than SBOX!\"\n",
    "    ddt = get_ddt(sbox)\n",
    "    l = len(sbox)\n",
    "    lb = int(l).bit_length()-1\n",
    "    assert l == 1<<lb, \"Size of SBOX isn't a power of two!\"   \n",
    "    # each successive bit carries an extra weight of *2 => l= max(weight) of bits\n",
    "\n",
    "    space = []\n",
    "    for x in range(l):\n",
    "        for y in range(l):\n",
    "            if ddt[x,y] <= threshold: continue\n",
    "            xb = tobits(x, lb)\n",
    "            yb = tobits(y, lb)\n",
    "            space.append((*xb, *yb))\n",
    "    \n",
    "    p = Polyhedron(vertices=space)\n",
    "    return p.Hrepresentation()\n",
    "\n",
    "\n",
    "def hrep_to_ineq(hrep, lin_var):\n",
    "    assert len(lin_var) == len(hrep[0]) - 1, \\\n",
    "        \"Number of arguments does not match dimensionality of `hrep`\"\n",
    "    # hrep includes constant b in iterable as element 0\n",
    "    return [\n",
    "        sum(var*coeff for coeff,var in zip([*ieq][1:], lin_var)) + ieq.b() >= 0 \n",
    "        for ieq in hrep\n",
    "    ]\n",
    "    # 1.    The function pushes '*' multiply operator. MIP linear function (lf) \n",
    "    #       attaches real constants to variables for storage as lf object. \n",
    "    # 2.    '>=', __geq__ has been overwritten to read 2 lf and output some \n",
    "    #       linear constraint (lc), thus NOT a boolean\n",
    "    # 3.    Returns a list of constraints\n",
    "\n",
    "\n",
    "def toblks(arr, blocklen:int):\n",
    "    assert len(arr)%blocklen ==0, \"`blocklen` isn't a divisor of `len(arr)`\"\n",
    "    return [arr[i : i + blocklen] for i in range(0, len(arr), blocklen)]\n",
    "\n",
    "\n",
    "def get_boolexpr_hrep(boolfunc):\n",
    "    \"\"\"\n",
    "    Get H-Representation of points representing\n",
    "    (a0,a1,...,an, boolfunc(a0,a1,...,an))\n",
    "    \n",
    "    boolfunc is a boolean function of n-args with a boolean output\n",
    "    \"\"\"\n",
    "    nargs = len(signature(boolfunc).parameters)\n",
    "    space = []\n",
    "    for nb in product([0,1], repeat=nargs): # all possible binary vectors in n-d\n",
    "        space.append((*nb, boolfunc(*nb)))\n",
    "        \n",
    "    p = Polyhedron(vertices=space)  # entire space based on the defined bool func\n",
    "    return p.Hrepresentation()\n",
    "    \n",
    "\n",
    "prod= lambda arr: reduce(lambda x,y: x*y, arr)"
   ]
  },
  {
   "cell_type": "code",
   "execution_count": 3,
   "metadata": {},
   "outputs": [],
   "source": [
    "class VarGen:\n",
    "    \n",
    "    \"\"\"\n",
    "    Wrapper class over `solver.new_variable`\n",
    "    to provide the `gen` method\n",
    "    \"\"\"\n",
    "    \n",
    "    def __init__(self, solver:MixedIntegerLinearProgram):\n",
    "        self.vargen = solver.new_variable(integer=True)\n",
    "        \n",
    "    def __getitem__(self, idx):\n",
    "        \"\"\"Get an existing variable at index `idx`\"\"\"\n",
    "        assert idx < len(self.vargen.keys())\n",
    "        return self.vargen[idx]\n",
    "    \n",
    "    def gen(self):\n",
    "        \"\"\"Generates a new variable\"\"\"\n",
    "        return self.vargen[len(self.vargen.keys())]\n"
   ]
  },
  {
   "cell_type": "code",
   "execution_count": 42,
   "metadata": {},
   "outputs": [],
   "source": [
    "RDS= 4\n",
    "\n",
    "SBOX= [0xC, 0x5, 0x6, 0xB, 0x9, 0x0, 0xA, 0xD, 0x3, 0xE, 0xF, 0x8, 0x4, 0x7, 0x1, 0x2]  # index= original 4-bit word\n",
    "INV_SBOX= [SBOX.index(i) for i in range(16)]\n",
    "DDT= get_ddt(SBOX)\n",
    "\n",
    "PBOX= [ (16*i) %63 for i in range(63)] + [63]\n",
    "INV_PBOX= [PBOX.index(i) for i in range(64)]"
   ]
  },
  {
   "cell_type": "markdown",
   "metadata": {},
   "source": [
    "Image taken from *\"Encyclopedia of Cryptography and Security\"* by **Van Tilborg et. al**.\n",
    "\n",
    "<p align= \"center\">\n",
    "    <img height= 700 width= 875 src= \"PRESENT-cipher.png\">\n",
    "</p>"
   ]
  },
  {
   "cell_type": "markdown",
   "metadata": {},
   "source": [
    "### Obtaining the differential characteristic at 3 rounds"
   ]
  },
  {
   "cell_type": "markdown",
   "metadata": {},
   "source": [
    "Creating objects, structures, variables"
   ]
  },
  {
   "cell_type": "code",
   "execution_count": 63,
   "metadata": {},
   "outputs": [],
   "source": [
    "hrep_sbox= get_sbox_hrep(SBOX,2)    # optional threshold argument for the minimum count of differential in DDT\n",
    "hrep_activeS= get_boolexpr_hrep(lambda a,b,c,d: a or b or c or d)\n",
    "\n",
    "solver= MixedIntegerLinearProgram(maximization=False)   # objective to MINIMIZE count of active S-boxes\n",
    "vargen= VarGen(solver)\n",
    "\n",
    "pt= [vargen.gen() for i in range(64)]  # generates a new variable point with each indexing imposed\n",
    "ct= pt[:]       # first round of ciphertext = plaintext\n",
    "sbox_ins= []    # Saves all s-box input var\n",
    "sbox_outs= []   # Saves all s-box output var"
   ]
  },
  {
   "cell_type": "markdown",
   "metadata": {},
   "source": [
    "Adding the constraints"
   ]
  },
  {
   "cell_type": "code",
   "execution_count": 64,
   "metadata": {},
   "outputs": [],
   "source": [
    "# only non-trivial solutions\n",
    "solver.add_constraint(sum(pt) >=1)"
   ]
  },
  {
   "cell_type": "code",
   "execution_count": 65,
   "metadata": {},
   "outputs": [],
   "source": [
    "# for each round, add the constraints associated to permutated bit\n",
    "for rd in range(RDS-1):\n",
    "\n",
    "    # saves the cipher bit-variable order before entering s-box\n",
    "    sbox_ins.extend(toblks(ct, 4))  \n",
    "    # each element is block of cipher => len(sbox_ins)= total number of sboxes\n",
    "\n",
    "    # a fresh blk at end of each sbox\n",
    "    sbox_out= [vargen.gen() for i in range(64)] \n",
    "    # save the assigned constraint variables in this sbox output\n",
    "    sbox_outs.extend(toblks(sbox_out, 4))\n",
    "\n",
    "    for c_blk, out_blk in zip(toblks(ct, 4), toblks(sbox_out, 4)):  # for each sbox, \n",
    "        for c in hrep_to_ineq(hrep_sbox, c_blk + out_blk):          # generate the ieqs\n",
    "            solver.add_constraint(c)                                # and add to constraints\n",
    "\n",
    "    # permutate before next round\n",
    "    ct= perm(PBOX, sbox_out)"
   ]
  },
  {
   "cell_type": "code",
   "execution_count": 66,
   "metadata": {},
   "outputs": [],
   "source": [
    "active_s= [vargen.gen() for _ in range(len(sbox_ins))]\n",
    "\n",
    "# add constraints to enable active s-box\n",
    "for sbox_in, active in zip(sbox_ins, active_s):\n",
    "    for c in hrep_to_ineq(hrep_activeS, sbox_in + [active]):\n",
    "        solver.add_constraint(c)"
   ]
  },
  {
   "cell_type": "markdown",
   "metadata": {},
   "source": [
    "Set objective function, and obtain objective value"
   ]
  },
  {
   "cell_type": "code",
   "execution_count": 67,
   "metadata": {},
   "outputs": [
    {
     "name": "stdout",
     "output_type": "stream",
     "text": [
      "Minimum Active S-Boxes: 4.0\n"
     ]
    }
   ],
   "source": [
    "objective= sum(active_s)\n",
    "solver.set_objective(objective)\n",
    "\n",
    "# solver.show()\n",
    "min_s=  solver.solve()\n",
    "print(\"Minimum Active S-Boxes:\", min_s)"
   ]
  },
  {
   "cell_type": "markdown",
   "metadata": {},
   "source": [
    "Retrieve stored values of each round"
   ]
  },
  {
   "cell_type": "code",
   "execution_count": 68,
   "metadata": {},
   "outputs": [
    {
     "name": "stdout",
     "output_type": "stream",
     "text": [
      "Plaintext Difference: \n",
      "\t .... 1..1 .... .... .... .... .... .... .... .... .... .... .... 1111 .... ....\n",
      "\n",
      "S-Box I/O: \n",
      " I:\t .... 1..1 .... .... .... .... .... .... .... .... .... .... .... 1111 .... ....\n",
      " O:\t .... ..1. .... .... .... .... .... .... .... .... .... .... .... ..1. .... ....\n",
      " _______________________________________PERMUTATE_______________________________________\n",
      " I:\t .... .... .... .... .... .... 1..1 .... .... .... .... .... .... .... .... ....\n",
      " O:\t .... .... .... .... .... .... ..1. .... .... .... .... .... .... .... .... ....\n",
      " _______________________________________PERMUTATE_______________________________________\n",
      " I:\t .... .... .... .... .... .... .... .... .... .... .1.. .... .... .... .... ....\n",
      " O:\t .... .... .... .... .... .... .... .... .... .... 1.1. .... .... .... .... ....\n",
      " _______________________________________PERMUTATE_______________________________________\n",
      "\n",
      "Ciphertext Difference: \n",
      "\t .... .... .... .... .... .... .... .... ..1. .... ..1. .... .... .... .... ....\n"
     ]
    }
   ],
   "source": [
    "d_in= [*map(int, solver.get_values(pt))]\n",
    "d_out= [*map(int, solver.get_values(ct))]\n",
    "\n",
    "sbox_i=[]\n",
    "for inp in toblks(sbox_ins, 16):     # every 4 sublists is 1 chain of ciphertext\n",
    "    sbox_i+= [[*map(int, solver.get_values( sum(inp, [])) )]]\n",
    "sbox_o=[]\n",
    "for oup in toblks(sbox_outs, 16):\n",
    "    sbox_o+= [[*map(int, solver.get_values( sum(oup, [])) )]]\n",
    "# sum(nested list, []) converts sum into joining of lists inside an iterable\n",
    "\n",
    "\n",
    "print(\"Plaintext Difference: \")\n",
    "print(\"\\t\", \" \".join( ''.join(x) for x in toblks([*map(str, d_in)], 4) ).replace('0','.'))\n",
    "\n",
    "print(\"\\nS-Box I/O: \")\n",
    "for i,o in zip(sbox_i, sbox_o): \n",
    "    print(\" I:\\t\", \" \".join( ''.join(x) for x in toblks([*map(str, i)], 4) ).replace('0','.'))\n",
    "    print(\" O:\\t\", \" \".join( ''.join(x) for x in toblks([*map(str, o)], 4) ).replace('0','.'))\n",
    "    print(\" \"+ \"_\"*39 + \"PERMUTATE\" + \"_\"*39)\n",
    "\n",
    "\n",
    "print(\"\\nCiphertext Difference: \")\n",
    "print(\"\\t\", \" \".join( ''.join(x) for x in toblks([*map(str, d_out)], 4) ).replace('0','.'))"
   ]
  },
  {
   "cell_type": "markdown",
   "metadata": {},
   "source": [
    "Calculating the probability of trail"
   ]
  },
  {
   "cell_type": "code",
   "execution_count": 69,
   "metadata": {},
   "outputs": [
    {
     "name": "stdout",
     "output_type": "stream",
     "text": [
      "Probability of Differential Characteristic:  0.00390625\n",
      " - One in 256\n"
     ]
    }
   ],
   "source": [
    "prod= lambda arr: reduce(lambda x,y: x*y, arr)\n",
    "p_rd= []\n",
    "for i,o in zip(sbox_i, sbox_o):\n",
    "    p_rd+= [ prod( DDT[frombits(iblk), frombits(oblk)]/len(SBOX) for iblk, oblk in  zip(toblks(i,4), toblks(o,4)) )]\n",
    "\n",
    "p_trail= prod(p_rd)\n",
    "print(\"Probability of Differential Characteristic: \", (p_trail))\n",
    "print(\" - One in\", int(round(1/p_trail)))"
   ]
  },
  {
   "cell_type": "code",
   "execution_count": null,
   "metadata": {},
   "outputs": [],
   "source": []
  }
 ],
 "metadata": {
  "kernelspec": {
   "display_name": "SageMath 9.0",
   "language": "sage",
   "name": "sagemath"
  },
  "language_info": {
   "codemirror_mode": {
    "name": "ipython",
    "version": 3
   },
   "file_extension": ".py",
   "mimetype": "text/x-python",
   "name": "python",
   "nbconvert_exporter": "python",
   "pygments_lexer": "ipython3",
   "version": "3.8.10"
  },
  "orig_nbformat": 4,
  "vscode": {
   "interpreter": {
    "hash": "d6ed91aedcb95ff6b8f0aa9afba1bcbd4ba37a0901561f8774ba54f02937fe30"
   }
  }
 },
 "nbformat": 4,
 "nbformat_minor": 2
}
