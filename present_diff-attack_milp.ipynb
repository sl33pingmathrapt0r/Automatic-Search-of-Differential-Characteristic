{
 "cells": [
  {
   "cell_type": "markdown",
   "metadata": {},
   "source": [
    "# Attempting a Differential Attack on PRESENT-80 with MILP using Convex Hull of S-Box"
   ]
  },
  {
   "cell_type": "markdown",
   "metadata": {},
   "source": [
    "### SETUP"
   ]
  },
  {
   "cell_type": "markdown",
   "metadata": {},
   "source": [
    "Importing libraries, setting up functions, preparing the encryption standard as guided with simple_spn.ipynb"
   ]
  },
  {
   "cell_type": "code",
   "execution_count": 1,
   "metadata": {},
   "outputs": [],
   "source": [
    "import secrets  # for randbits\n",
    "from time import time\n",
    "import numpy as np\n",
    "import matplotlib.pyplot as plt\n",
    "from inspect import signature\n",
    "from itertools import product\n",
    "from functools import reduce\n",
    "from sage.crypto.block_cipher.present import PRESENT, PRESENT_KS"
   ]
  },
  {
   "cell_type": "code",
   "execution_count": 2,
   "metadata": {},
   "outputs": [],
   "source": [
    "tobits= lambda x, nbits: [*map(int, format(x, \"0%db\"%nbits)[::-1])]     # little endian\n",
    "\n",
    "frombits= lambda y: sum(bit*(1<<i) for i,bit in enumerate(y))\n",
    "\n",
    "def perm(pbox, cipbits):\n",
    "    assert len(cipbits) == len(pbox)\n",
    "    return [cipbits[pbox[i]] for i in range(len(cipbits))]\n",
    "\n",
    "\n",
    "def get_ddt(sbox):\n",
    "    l= len(sbox)\n",
    "    ddt= np.zeros((l,l), dtype=int)\n",
    "    for i,x in enumerate(sbox):\n",
    "        for j,y in enumerate(sbox):\n",
    "            ddt[i^^j][x^^y]+= 1\n",
    "    return ddt\n",
    "\n",
    "\n",
    "def get_sbox_hrep(sbox, threshold:int=0):\n",
    "    assert threshold >= 0, \"Threshold must be a positive integer\"\n",
    "    assert threshold <= len(sbox), \"Threshold= `threshold` is larger than SBOX!\"\n",
    "    ddt = get_ddt(sbox)\n",
    "    l = len(sbox)\n",
    "    lb = int(l).bit_length()-1\n",
    "    assert l == 1<<lb, \"Size of SBOX isn't a power of two!\"   \n",
    "    # each successive bit carries an extra weight of *2 => l= max(weight) of bits\n",
    "\n",
    "    space = []\n",
    "    for x in range(l):\n",
    "        for y in range(l):\n",
    "            if ddt[x,y] <= threshold: continue\n",
    "            xb = tobits(x, lb)\n",
    "            yb = tobits(y, lb)\n",
    "            space.append((*xb, *yb))\n",
    "    \n",
    "    p = Polyhedron(vertices=space)\n",
    "    return p.Hrepresentation()\n",
    "\n",
    "\n",
    "def hrep_to_ineq(hrep, lin_var):\n",
    "    assert len(lin_var) == len(hrep[0]) - 1, \\\n",
    "        \"Number of arguments does not match dimensionality of `hrep`\"\n",
    "    # hrep includes constant b in iterable as element 0\n",
    "    return [\n",
    "        sum(var*coeff for coeff,var in zip([*ieq][1:], lin_var)) + ieq.b() >= 0 \n",
    "        for ieq in hrep\n",
    "    ]\n",
    "    # 1.    The function pushes '*' multiply operator. MIP linear function (lf) \n",
    "    #       attaches real constants to variables for storage as lf object. \n",
    "    # 2.    '>=', __geq__ has been overwritten to read 2 lf and output some \n",
    "    #       linear constraint (lc), thus NOT a boolean\n",
    "    # 3.    Returns a list of constraints\n",
    "\n",
    "\n",
    "def toblks(arr, blocklen:int):\n",
    "    assert len(arr)%blocklen ==0, \"`blocklen` isn't a divisor of `len(arr)`\"\n",
    "    return [arr[i : i + blocklen] for i in range(0, len(arr), blocklen)]\n",
    "\n",
    "\n",
    "def get_boolexpr_hrep(boolfunc):\n",
    "    \"\"\"\n",
    "    Get H-Representation of points representing\n",
    "    (a0,a1,...,an, boolfunc(a0,a1,...,an))\n",
    "    \n",
    "    boolfunc is a boolean function of n-args with a boolean output\n",
    "    \"\"\"\n",
    "    nargs = len(signature(boolfunc).parameters)\n",
    "    space = []\n",
    "    for nb in product([0,1], repeat=nargs): # all possible binary vectors in n-d\n",
    "        space.append((*nb, boolfunc(*nb)))\n",
    "        \n",
    "    p = Polyhedron(vertices=space)  # entire space based on the defined bool func\n",
    "    return p.Hrepresentation()\n",
    "    \n",
    "\n",
    "prod= lambda arr: reduce(lambda x,y: x*y, arr)"
   ]
  },
  {
   "cell_type": "code",
   "execution_count": 3,
   "metadata": {},
   "outputs": [],
   "source": [
    "class VarGen:\n",
    "    \n",
    "    \"\"\"\n",
    "    Wrapper class over `solver.new_variable`\n",
    "    to provide the `gen` method\n",
    "    \"\"\"\n",
    "    \n",
    "    def __init__(self, solver:MixedIntegerLinearProgram):\n",
    "        self.vargen = solver.new_variable(integer=True)\n",
    "        \n",
    "    def __getitem__(self, idx):\n",
    "        \"\"\"Get an existing variable at index `idx`\"\"\"\n",
    "        assert idx < len(self.vargen.keys())\n",
    "        return self.vargen[idx]\n",
    "    \n",
    "    def gen(self):\n",
    "        \"\"\"Generates a new variable\"\"\"\n",
    "        return self.vargen[len(self.vargen.keys())]\n"
   ]
  },
  {
   "cell_type": "code",
   "execution_count": null,
   "metadata": {},
   "outputs": [],
   "source": [
    "RDS= 4\n",
    "\n",
    "SBOX= [0xC, 0x5, 0x6, 0xB, 0x9, 0x0, 0xA, 0xD, 0x3, 0xE, 0xF, 0x8, 0x4, 0x7, 0x1, 0x2]  # index= original 4-bit word\n",
    "INV_SBOX= [SBOX.index(i) for i in range(16)]\n",
    "\n",
    "PBOX= [ (16*i) %63 for i in range(63)] + [63]\n",
    "INV_PBOX= [PBOX.index(i) for i in range(16)]"
   ]
  }
 ],
 "metadata": {
  "kernelspec": {
   "display_name": "SageMath 9.0",
   "language": "sage",
   "name": "sagemath"
  },
  "language_info": {
   "codemirror_mode": {
    "name": "ipython",
    "version": 3
   },
   "file_extension": ".py",
   "mimetype": "text/x-python",
   "name": "python",
   "nbconvert_exporter": "python",
   "pygments_lexer": "ipython3",
   "version": "3.8.10"
  },
  "orig_nbformat": 4,
  "vscode": {
   "interpreter": {
    "hash": "d6ed91aedcb95ff6b8f0aa9afba1bcbd4ba37a0901561f8774ba54f02937fe30"
   }
  }
 },
 "nbformat": 4,
 "nbformat_minor": 2
}
